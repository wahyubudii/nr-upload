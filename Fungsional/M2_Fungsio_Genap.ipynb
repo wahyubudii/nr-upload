{
  "nbformat": 4,
  "nbformat_minor": 0,
  "metadata": {
    "colab": {
      "provenance": [],
      "collapsed_sections": []
    },
    "kernelspec": {
      "name": "python3",
      "display_name": "Python 3"
    },
    "language_info": {
      "name": "python"
    }
  },
  "cells": [
    {
      "cell_type": "code",
      "source": [
        "database = [\n",
        "    {\n",
        "        \"id\": \"1\",\n",
        "        \"name\": \"Rizky\",\n",
        "        \"ulangan\": [90, 70, 50],\n",
        "        \"uas\": 90\n",
        "    },\n",
        "    {\n",
        "        \"id\": \"2\",\n",
        "        \"name\": \"Ricky\",\n",
        "        \"ulangan\": [],\n",
        "        \"uas\": 80\n",
        "    },\n",
        "    {\n",
        "        \"id\": \"3\",\n",
        "        \"name\": \"Niswa\",\n",
        "        \"ulangan\": [],\n",
        "        \"uas\": 90\n",
        "    }\n",
        "]"
      ],
      "metadata": {
        "id": "rG_UHFJUKfqC"
      },
      "execution_count": null,
      "outputs": []
    },
    {
      "cell_type": "markdown",
      "source": [
        "MENU GURU"
      ],
      "metadata": {
        "id": "RqbQnW5Jr26e"
      }
    },
    {
      "cell_type": "code",
      "source": [
        "def inputData():\n",
        "  print(\"\\nInput Data Siswa\")\n",
        "  jumlahData = int(input(\"Jumlah data siswa yang ingin diinput: \"))\n",
        "  for i in range(jumlahData):\n",
        "    print(\"\\nData Ke -\", str(i + 1))\n",
        "    inputName = input(\"Nama           : \")\n",
        "    inputUlangan = int(input(\"Nilai Ulangan      : \"))\n",
        "    inputUas = int(input(\"Nilai UAS      : \"))\n",
        "    database.append({\"id\": len(database) + 1, \"name\": inputName, \"ulangan\": inputUlangan, \"uas\": inputUas})\n",
        "  teacherMenu()"
      ],
      "metadata": {
        "id": "6W0WAg5Qr6xu"
      },
      "execution_count": null,
      "outputs": []
    },
    {
      "cell_type": "code",
      "source": [
        "def editData():\n",
        "  print(\"\\nEdit Data Siswa\")\n",
        "  i = int(input(\"Masukkan ID Siswa yang ingin diganti datanya: \"))\n",
        "  if i > len(database):\n",
        "    print(\"Data Not Found\")\n",
        "  else:\n",
        "    print(\"Nama           : \", database[i][\"name\"])\n",
        "    tempUlangan = int(input(\"Nilai Ulangan      :  \"))\n",
        "    tempUas = int(input(\"Nilai UAS      :  \"))\n",
        "    database[i][\"ulangan\"] = tempUlangan\n",
        "    database[i][\"uas\"] = tempUas\n",
        "    print(\"Berhasil Edit Data Siswa\")\n",
        "  teacherMenu()"
      ],
      "metadata": {
        "id": "x0nNlS6_sQHT"
      },
      "execution_count": null,
      "outputs": []
    },
    {
      "cell_type": "code",
      "source": [
        "def showData():\n",
        "  print()\n",
        "  line = lambda param: param * 76\n",
        "  print(line(\"=\"))\n",
        "  print(\"ID \\t Nama \\t\\t Nilai Ulangan \\t\\t Nilai UAS \\t Nilai Akhir\")\n",
        "  print(line(\"=\"))\n",
        "\n",
        "\n",
        "  for i in range(len(database)):\n",
        "    print(i, \"\\t\", database[i][\"name\"], \"\\t\\t\", database[i][\"ulangan\"] if len(database[i][\"ulangan\"]) else \"Kosong\", \"\\t\\t\", database[i][\"uas\"], \"\\t\\t\", (database[i][\"uas\"] + sum(database[i][\"ulangan\"])) / 2)\n",
        "  teacherMenu()"
      ],
      "metadata": {
        "id": "p_mGHPABsT1o"
      },
      "execution_count": null,
      "outputs": []
    },
    {
      "cell_type": "code",
      "source": [
        "def ulanganHarian():\n",
        "  error = False\n",
        "  line = lambda param: param * 76\n",
        "\n",
        "  jumlahUlangan = int(input(\"Masukkan jumlah ulangan: \"))\n",
        "  username = input(\"Masukkan nama siswa: \")\n",
        "  for i in range(len(database)):\n",
        "    if jumlahUlangan > 3:\n",
        "      error = True\n",
        "      break\n",
        "    else:\n",
        "      if database[i][\"name\"] == username:\n",
        "        if len(database[i][\"ulangan\"]) >= 3:\n",
        "          error = True\n",
        "          break\n",
        "        else:\n",
        "          for n in range(jumlahUlangan):\n",
        "            nilaiUlangan = int(input(\"Masukkan nilai ulangan: \"))\n",
        "            database[i][\"ulangan\"].append(nilaiUlangan)\n",
        "        print(\"Berhasil melakukan ulangan harian\")\n",
        "        teacherMenu()\n",
        "\n",
        "  if error == True:\n",
        "    print(\"Tidak boleh melakukan ulangan lebih dari 3x sehari\")\n",
        "    teacherMenu()"
      ],
      "metadata": {
        "id": "2O5sMoGiSMfW"
      },
      "execution_count": null,
      "outputs": []
    },
    {
      "cell_type": "code",
      "source": [
        "def teacherMenu():\n",
        "  print(\"\\n=== Teacher Account ===\")\n",
        "  print(\"1. Input Data Siswa\")\n",
        "  print(\"2. Edit Nilai Siswa\")\n",
        "  print(\"3. Lihat Data Siswa\")\n",
        "  print(\"4. Ulangan Harian\")\n",
        "  print(\"0. Ganti Akun\")\n",
        "  print(\"99. Exit\")\n",
        "\n",
        "  teacherOption = int(input(\"Pilih Menu: \"))\n",
        "  if teacherOption == 1:\n",
        "    inputData()\n",
        "  elif teacherOption == 2:\n",
        "    editData()\n",
        "  elif teacherOption == 3:\n",
        "    showData()\n",
        "  elif teacherOption == 4:\n",
        "    ulanganHarian()\n",
        "  elif teacherOption == 0:\n",
        "    menu()\n",
        "  else:\n",
        "    print(\"Berhasil Keluar\")\n",
        "    exit()"
      ],
      "metadata": {
        "id": "TFMkbfhAt5xx"
      },
      "execution_count": null,
      "outputs": []
    },
    {
      "cell_type": "markdown",
      "source": [
        "MENU STUDENT\n"
      ],
      "metadata": {
        "id": "wF1bw63kEG0E"
      }
    },
    {
      "cell_type": "code",
      "source": [
        "def studentMenu():\n",
        "  print(\"\\n=== Student Account ===\")\n",
        "  print(\"1. Lihat Nilai\")\n",
        "  print(\"0. Ganti Akun\")\n",
        "  print(\"99. Exit\")\n",
        "\n",
        "  studentOption = int(input(\"Pilih Menu: \"))\n",
        "  if studentOption == 1:\n",
        "    showValue()\n",
        "  elif studentOption == 0:\n",
        "    menu()\n",
        "  elif studentOption == 99:\n",
        "    print(\"Berhasil keluar program, Terima kasih!\")\n",
        "    exit()\n",
        "  else:\n",
        "    print(\"Error, Invalid Option!\")\n",
        "    exit()"
      ],
      "metadata": {
        "id": "-arMe7upEJaM"
      },
      "execution_count": null,
      "outputs": []
    },
    {
      "cell_type": "code",
      "source": [
        "def showValue():\n",
        "  studentName = input(\"Masukkan Nama Murid: \")\n",
        "  print()\n",
        "  for i in range(len(database)):\n",
        "    if studentName == database[i][\"name\"]:\n",
        "      print(\"ID              : \", i)\n",
        "      print(\"Nama            : \", database[i][\"name\"])\n",
        "      print(\"Nilai Ulangan   : \", database[i][\"ulangan\"] if len(database[i][\"ulangan\"]) > 0 else \"Kosong\")\n",
        "      print(\"Nilai UAS       : \", database[i][\"uas\"])\n",
        "      print(\"Nilai Akhir     : \", (database[i][\"uas\"] + sum(database[i][\"ulangan\"])) / 2)\n",
        "      break\n",
        "  studentMenu()"
      ],
      "metadata": {
        "id": "xHwvNSE8ER-B"
      },
      "execution_count": null,
      "outputs": []
    },
    {
      "cell_type": "markdown",
      "source": [
        "MAIN PROGRAM\n"
      ],
      "metadata": {
        "id": "xcSnqbSgEKRq"
      }
    },
    {
      "cell_type": "code",
      "source": [
        "def menu():\n",
        "  print(\"===\"*5, \"NIM Genap\", \"===\"*5)\n",
        "  print(\"\\nSilahkan pilih roles: \")\n",
        "  print(\"1. Teacher\")\n",
        "  print(\"2. Student\")\n",
        "  print(\"99. Exit\")\n",
        "  \n",
        "  menu = int(input(\"Pilih: \"))\n",
        "  if menu == 1:\n",
        "    teacherMenu()\n",
        "  elif menu == 2:\n",
        "    studentMenu()\n",
        "  elif menu == 99:\n",
        "    exit()\n",
        "  else:\n",
        "    print(\"Error, Invalid Option!\")\n",
        "    menu()"
      ],
      "metadata": {
        "id": "2V0JnE9hEL-T"
      },
      "execution_count": null,
      "outputs": []
    },
    {
      "cell_type": "code",
      "source": [
        "menu()"
      ],
      "metadata": {
        "id": "5LvBRXGIFMjQ",
        "colab": {
          "base_uri": "https://localhost:8080/"
        },
        "outputId": "cd0cca9f-859b-4549-f818-c44d49696ea6"
      },
      "execution_count": null,
      "outputs": [
        {
          "output_type": "stream",
          "name": "stdout",
          "text": [
            "=============== NIM Genap ===============\n",
            "\n",
            "Silahkan pilih roles: \n",
            "1. Teacher\n",
            "2. Student\n",
            "99. Exit\n",
            "Pilih: 1\n",
            "\n",
            "=== Teacher Account ===\n",
            "1. Input Data Siswa\n",
            "2. Edit Nilai Siswa\n",
            "3. Lihat Data Siswa\n",
            "4. Ulangan Harian\n",
            "0. Ganti Akun\n",
            "99. Exit\n",
            "Pilih Menu: 3\n",
            "\n",
            "============================================================================\n",
            "ID \t Nama \t\t Nilai Ulangan \t\t Nilai UAS \t Nilai Akhir\n",
            "============================================================================\n",
            "0 \t Wahyu \t\t [90, 70, 50] \t\t 90 \t\t 150.0\n",
            "1 \t Ricky \t\t Kosong \t\t 80 \t\t 40.0\n",
            "2 \t Niswa \t\t Kosong \t\t 90 \t\t 45.0\n",
            "\n",
            "=== Teacher Account ===\n",
            "1. Input Data Siswa\n",
            "2. Edit Nilai Siswa\n",
            "3. Lihat Data Siswa\n",
            "4. Ulangan Harian\n",
            "0. Ganti Akun\n",
            "99. Exit\n",
            "Pilih Menu: 99\n",
            "Berhasil Keluar\n"
          ]
        }
      ]
    },
    {
      "cell_type": "markdown",
      "source": [
        "KEGIATAN 2"
      ],
      "metadata": {
        "id": "nyCev-VvvniE"
      }
    },
    {
      "cell_type": "code",
      "source": [
        "primeNumbers = (x for x in range(2,100) if not [t for t in range(2,x) if not x%t])\n",
        "print(type(primeNumbers))\n",
        "print(list(primeNumbers))"
      ],
      "metadata": {
        "colab": {
          "base_uri": "https://localhost:8080/"
        },
        "id": "ftaktt2j2gxM",
        "outputId": "b1752446-5b63-4644-b29f-c40c744bfb41"
      },
      "execution_count": null,
      "outputs": [
        {
          "output_type": "stream",
          "name": "stdout",
          "text": [
            "<class 'generator'>\n",
            "[2, 3, 5, 7, 11, 13, 17, 19, 23, 29, 31, 37, 41, 43, 47, 53, 59, 61, 67, 71, 73, 79, 83, 89, 97]\n"
          ]
        }
      ]
    },
    {
      "cell_type": "markdown",
      "source": [
        "LATIHAN"
      ],
      "metadata": {
        "id": "wPSOun8CAxBw"
      }
    }
  ]
}